{
 "cells": [
  {
   "cell_type": "code",
   "execution_count": 1,
   "id": "0628805b",
   "metadata": {},
   "outputs": [],
   "source": [
    "%load_ext autoreload\n",
    "%autoreload 2"
   ]
  },
  {
   "cell_type": "code",
   "execution_count": 2,
   "id": "121ff6fc",
   "metadata": {},
   "outputs": [],
   "source": [
    "import sys\n",
    "import os\n",
    "\n",
    "path = os.getcwd()\n",
    "for _ in range(2):\n",
    "    path = os.path.dirname(path)\n",
    "\n",
    "if not path in sys.path:\n",
    "    sys.path.append(path)"
   ]
  },
  {
   "cell_type": "code",
   "execution_count": 3,
   "id": "f7a5957c",
   "metadata": {},
   "outputs": [],
   "source": [
    "import torch.nn as nn\n",
    "\n",
    "from ModelFusion.helpers.load_data import load_data\n",
    "from ModelFusion.helpers.load_model import load_model"
   ]
  },
  {
   "cell_type": "code",
   "execution_count": 4,
   "id": "3311a971",
   "metadata": {},
   "outputs": [],
   "source": [
    "ds_name = \"CIFAR10\"\n",
    "model_name = \"ViT\""
   ]
  },
  {
   "cell_type": "markdown",
   "id": "d10b9680",
   "metadata": {},
   "source": [
    "## 1. Read data"
   ]
  },
  {
   "cell_type": "code",
   "execution_count": 5,
   "id": "8326b8b2",
   "metadata": {},
   "outputs": [
    {
     "name": "stdout",
     "output_type": "stream",
     "text": [
      "Files already downloaded and verified\n",
      "Files already downloaded and verified\n"
     ]
    }
   ],
   "source": [
    "train_ds = load_data(ds_name, \"train\")\n",
    "val_ds = load_data(ds_name, \"val\")\n",
    "# train_ds[0][0].shape, train_ds[0][1], val_ds[0][0].shape, val_ds[0][1]"
   ]
  },
  {
   "cell_type": "markdown",
   "id": "453ca82f",
   "metadata": {},
   "source": [
    "## 2. Load model"
   ]
  },
  {
   "cell_type": "code",
   "execution_count": 6,
   "id": "43e13e67",
   "metadata": {},
   "outputs": [
    {
     "data": {
      "text/plain": [
       "(torch.Size([1, 10]), torch.Size([1, 5, 768]), 12)"
      ]
     },
     "execution_count": 6,
     "metadata": {},
     "output_type": "execute_result"
    }
   ],
   "source": [
    "X_test = train_ds[0][0].unsqueeze(0)\n",
    "model = load_model(model_name)\n",
    "pred, hidden_states = model(X_test)\n",
    "# L = 5 : 4 patches + 1 cls_token\n",
    "pred.shape, hidden_states[0].shape,  len(hidden_states)"
   ]
  },
  {
   "cell_type": "code",
   "execution_count": 7,
   "id": "0845e15f",
   "metadata": {},
   "outputs": [],
   "source": [
    "model = load_model(model_name)"
   ]
  },
  {
   "cell_type": "code",
   "execution_count": 14,
   "id": "b8a8f3ed",
   "metadata": {},
   "outputs": [],
   "source": [
    "# model"
   ]
  },
  {
   "cell_type": "code",
   "execution_count": null,
   "id": "f1f69fa1",
   "metadata": {},
   "outputs": [],
   "source": []
  }
 ],
 "metadata": {
  "kernelspec": {
   "display_name": "IML",
   "language": "python",
   "name": "iml"
  },
  "language_info": {
   "codemirror_mode": {
    "name": "ipython",
    "version": 3
   },
   "file_extension": ".py",
   "mimetype": "text/x-python",
   "name": "python",
   "nbconvert_exporter": "python",
   "pygments_lexer": "ipython3",
   "version": "3.9.5"
  }
 },
 "nbformat": 4,
 "nbformat_minor": 5
}
