{
 "cells": [
  {
   "cell_type": "code",
   "execution_count": 1,
   "id": "0628805b",
   "metadata": {},
   "outputs": [],
   "source": [
    "%load_ext autoreload\n",
    "%autoreload 2"
   ]
  },
  {
   "cell_type": "code",
   "execution_count": 2,
   "id": "121ff6fc",
   "metadata": {},
   "outputs": [],
   "source": [
    "import sys\n",
    "import os\n",
    "\n",
    "path = os.getcwd()\n",
    "for _ in range(2):\n",
    "    path = os.path.dirname(path)\n",
    "\n",
    "if not path in sys.path:\n",
    "    sys.path.append(path)"
   ]
  },
  {
   "cell_type": "code",
   "execution_count": 3,
   "id": "f7a5957c",
   "metadata": {},
   "outputs": [],
   "source": [
    "import torch\n",
    "import pytorch_lightning as pl\n",
    "import os\n",
    "import ModelFusion.helpers.pytorch_utils as ptu\n",
    "\n",
    "from ModelFusion.helpers.load_data import load_data\n",
    "from ModelFusion.helpers.load_model import load_model, reload_model\n",
    "from ModelFusion.helpers.pl_helpers import TrainClf, get_logger\n",
    "from pytorch_lightning.callbacks import ModelCheckpoint\n",
    "from ModelFusion.helpers.utils import vis_images"
   ]
  },
  {
   "cell_type": "code",
   "execution_count": 4,
   "id": "3311a971",
   "metadata": {},
   "outputs": [],
   "source": [
    "ds_name = \"CIFAR10\"\n",
    "model_name = \"ViT\"\n",
    "save_dir = \"../\"\n",
    "log_name = \"clf_logs\"\n",
    "if_debug = False\n",
    "accelerator = \"gpu\" if torch.cuda.is_available() else \"cpu\""
   ]
  },
  {
   "cell_type": "markdown",
   "id": "d10b9680",
   "metadata": {},
   "source": [
    "## 1. Read data"
   ]
  },
  {
   "cell_type": "code",
   "execution_count": 5,
   "id": "8326b8b2",
   "metadata": {},
   "outputs": [
    {
     "name": "stdout",
     "output_type": "stream",
     "text": [
      "Files already downloaded and verified\n",
      "Files already downloaded and verified\n"
     ]
    }
   ],
   "source": [
    "train_ds = load_data(ds_name, \"train\")\n",
    "val_ds = load_data(ds_name, \"val\")\n",
    "# train_ds[0][0].shape, train_ds[0][1], val_ds[0][0].shape, val_ds[0][1]"
   ]
  },
  {
   "cell_type": "markdown",
   "id": "453ca82f",
   "metadata": {},
   "source": [
    "## 2. Load model"
   ]
  },
  {
   "cell_type": "code",
   "execution_count": 6,
   "id": "43e13e67",
   "metadata": {},
   "outputs": [
    {
     "data": {
      "text/plain": [
       "(torch.Size([1, 10]), torch.Size([1, 65, 768]), 12)"
      ]
     },
     "execution_count": 6,
     "metadata": {},
     "output_type": "execute_result"
    }
   ],
   "source": [
    "X_test = train_ds[0][0].unsqueeze(0)\n",
    "model = load_model(model_name)\n",
    "pred, hidden_states = model(X_test)\n",
    "# L = 5 : 4 patches + 1 cls_token\n",
    "pred.shape, hidden_states[0].shape,  len(hidden_states)"
   ]
  },
  {
   "cell_type": "code",
   "execution_count": 7,
   "id": "0845e15f",
   "metadata": {},
   "outputs": [],
   "source": [
    "model = load_model(model_name)"
   ]
  },
  {
   "cell_type": "markdown",
   "id": "3257a488",
   "metadata": {},
   "source": [
    "## 3. Training"
   ]
  },
  {
   "cell_type": "code",
   "execution_count": 8,
   "id": "f1f69fa1",
   "metadata": {},
   "outputs": [],
   "source": [
    "ds_dict = {\n",
    "    \"train\": train_ds,\n",
    "    \"val\": val_ds\n",
    "}\n",
    "model = load_model(model_name)\n",
    "lit_model = TrainClf(ds_dict, model)"
   ]
  },
  {
   "cell_type": "code",
   "execution_count": 9,
   "id": "423018eb",
   "metadata": {},
   "outputs": [],
   "source": [
    "logger, time_stamp = get_logger(save_dir, log_name)\n",
    "callbacks = [\n",
    "    ModelCheckpoint(os.path.join(save_dir, log_name, time_stamp, \"checkpoints/\"), monitor=\"val_Accuracy\", mode=\"max\")\n",
    "]"
   ]
  },
  {
   "cell_type": "code",
   "execution_count": 10,
   "id": "432d36ac",
   "metadata": {},
   "outputs": [
    {
     "name": "stderr",
     "output_type": "stream",
     "text": [
      "GPU available: True (cuda), used: True\n",
      "TPU available: False, using: 0 TPU cores\n",
      "IPU available: False, using: 0 IPUs\n",
      "HPU available: False, using: 0 HPUs\n"
     ]
    }
   ],
   "source": [
    "# if_debug = True\n",
    "if if_debug:\n",
    "    trainer = pl.Trainer(\n",
    "        accelerator=\"gpu\",\n",
    "        devices=1,\n",
    "        fast_dev_run=2\n",
    "    )\n",
    "else:\n",
    "    trainer = pl.Trainer(\n",
    "        accelerator=\"gpu\",\n",
    "        devices=1,\n",
    "        logger=logger,\n",
    "        callbacks=callbacks,\n",
    "        num_sanity_val_steps=-1,\n",
    "#         precision=16,\n",
    "#         max_epochs=lit_model.num_epochs,\n",
    "        max_epochs=5\n",
    "    )"
   ]
  },
  {
   "cell_type": "code",
   "execution_count": 11,
   "id": "5e1a4cdf",
   "metadata": {},
   "outputs": [
    {
     "name": "stderr",
     "output_type": "stream",
     "text": [
      "LOCAL_RANK: 0 - CUDA_VISIBLE_DEVICES: [0]\n",
      "\n",
      "  | Name          | Type             | Params\n",
      "---------------------------------------------------\n",
      "0 | model         | ViT              | 85.1 M\n",
      "1 | loss_fn       | CrossEntropyLoss | 0     \n",
      "2 | train_metrics | MetricCollection | 0     \n",
      "3 | val_metrics   | MetricCollection | 0     \n",
      "---------------------------------------------------\n",
      "85.1 M    Trainable params\n",
      "0         Non-trainable params\n",
      "85.1 M    Total params\n",
      "340.270   Total estimated model params size (MB)\n"
     ]
    },
    {
     "data": {
      "application/vnd.jupyter.widget-view+json": {
       "model_id": "",
       "version_major": 2,
       "version_minor": 0
      },
      "text/plain": [
       "Sanity Checking: 0it [00:00, ?it/s]"
      ]
     },
     "metadata": {},
     "output_type": "display_data"
    },
    {
     "name": "stderr",
     "output_type": "stream",
     "text": [
      "D:\\python\\venvs\\IML\\lib\\site-packages\\pytorch_lightning\\trainer\\connectors\\data_connector.py:224: PossibleUserWarning: The dataloader, val_dataloader 0, does not have many workers which may be a bottleneck. Consider increasing the value of the `num_workers` argument` (try 16 which is the number of cpus on this machine) in the `DataLoader` init to improve performance.\n",
      "  rank_zero_warn(\n",
      "D:\\python\\venvs\\IML\\lib\\site-packages\\pytorch_lightning\\trainer\\connectors\\data_connector.py:224: PossibleUserWarning: The dataloader, train_dataloader, does not have many workers which may be a bottleneck. Consider increasing the value of the `num_workers` argument` (try 16 which is the number of cpus on this machine) in the `DataLoader` init to improve performance.\n",
      "  rank_zero_warn(\n"
     ]
    },
    {
     "data": {
      "application/vnd.jupyter.widget-view+json": {
       "model_id": "43b7aac8dd2342a5bb4f85987816635e",
       "version_major": 2,
       "version_minor": 0
      },
      "text/plain": [
       "Training: 0it [00:00, ?it/s]"
      ]
     },
     "metadata": {},
     "output_type": "display_data"
    },
    {
     "data": {
      "application/vnd.jupyter.widget-view+json": {
       "model_id": "",
       "version_major": 2,
       "version_minor": 0
      },
      "text/plain": [
       "Validation: 0it [00:00, ?it/s]"
      ]
     },
     "metadata": {},
     "output_type": "display_data"
    },
    {
     "name": "stderr",
     "output_type": "stream",
     "text": [
      "D:\\python\\venvs\\IML\\lib\\site-packages\\pytorch_lightning\\trainer\\call.py:48: UserWarning: Detected KeyboardInterrupt, attempting graceful shutdown...\n",
      "  rank_zero_warn(\"Detected KeyboardInterrupt, attempting graceful shutdown...\")\n"
     ]
    }
   ],
   "source": [
    "trainer.fit(lit_model)"
   ]
  },
  {
   "cell_type": "markdown",
   "id": "8190c82a",
   "metadata": {},
   "source": [
    "## 4. Reload Model"
   ]
  },
  {
   "cell_type": "code",
   "execution_count": 12,
   "id": "03bb5703",
   "metadata": {},
   "outputs": [],
   "source": [
    "log_dir = \"../clf_logs/2022_11_13_02_06_00_449489/\""
   ]
  },
  {
   "cell_type": "code",
   "execution_count": 13,
   "id": "66119146",
   "metadata": {},
   "outputs": [
    {
     "name": "stdout",
     "output_type": "stream",
     "text": [
      "Files already downloaded and verified\n",
      "Files already downloaded and verified\n"
     ]
    }
   ],
   "source": [
    "train_ds = load_data(ds_name, \"train\")\n",
    "val_ds = load_data(ds_name, \"val\")"
   ]
  },
  {
   "cell_type": "code",
   "execution_count": 15,
   "id": "61442af2",
   "metadata": {},
   "outputs": [],
   "source": [
    "model_reload = reload_model(model_name, log_dir)"
   ]
  },
  {
   "cell_type": "code",
   "execution_count": 19,
   "id": "d98ccb76",
   "metadata": {},
   "outputs": [
    {
     "data": {
      "image/png": "[encoded data removed]",
      "text/plain": [
       "<Figure size 259.2x259.2 with 1 Axes>"
      ]
     },
     "metadata": {
      "needs_background": "light"
     },
     "output_type": "display_data"
    }
   ],
   "source": [
    "with torch.no_grad():\n",
    "    idx = 10\n",
    "    data = val_ds[idx]\n",
    "    img, label = data\n",
    "    img_input = img.unsqueeze(0).to(ptu.DEVICE)\n",
    "    pred, _ = model_reload(img_input)\n",
    "    pred = pred.detach().cpu().argmax(dim=1).item()\n",
    "\n",
    "vis_images(img, titles=[f\"pred: {pred}, label: {label}\"])"
   ]
  },
  {
   "cell_type": "code",
   "execution_count": null,
   "id": "ceb8b5bb",
   "metadata": {},
   "outputs": [],
   "source": []
  }
 ],
 "metadata": {
  "kernelspec": {
   "display_name": "IML",
   "language": "python",
   "name": "iml"
  },
  "language_info": {
   "codemirror_mode": {
    "name": "ipython",
    "version": 3
   },
   "file_extension": ".py",
   "mimetype": "text/x-python",
   "name": "python",
   "nbconvert_exporter": "python",
   "pygments_lexer": "ipython3",
   "version": "3.9.5"
  }
 },
 "nbformat": 4,
 "nbformat_minor": 5
}
