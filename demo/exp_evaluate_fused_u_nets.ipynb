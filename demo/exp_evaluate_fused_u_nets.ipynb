{
 "cells": [
  {
   "cell_type": "code",
   "execution_count": 1,
   "id": "02a6a068",
   "metadata": {},
   "outputs": [],
   "source": [
    "%load_ext autoreload\n",
    "%autoreload 2"
   ]
  },
  {
   "cell_type": "code",
   "execution_count": 2,
   "id": "d5c09829",
   "metadata": {},
   "outputs": [
    {
     "data": {
      "text/plain": [
       "'D:\\\\testings\\\\Python\\\\TestingPython\\\\ModelFusion'"
      ]
     },
     "execution_count": 2,
     "metadata": {},
     "output_type": "execute_result"
    }
   ],
   "source": [
    "# Note: this cell can only be run once, since we're changing the directory.\n",
    "import sys\n",
    "import os\n",
    "\n",
    "path = \"D:/testings/Python/TestingPython/\"\n",
    "if path not in sys.path:\n",
    "    sys.path.append(path)\n",
    "\n",
    "os.chdir(\"../\")\n",
    "os.getcwd()"
   ]
  },
  {
   "cell_type": "code",
   "execution_count": 3,
   "id": "2b4e00dd",
   "metadata": {},
   "outputs": [],
   "source": [
    "import torch\n",
    "import pytorch_lightning as pl\n",
    "\n",
    "from torch.utils.data import Subset\n",
    "from ModelFusion.fusion.fuse_u_net import fuse_u_nets\n",
    "from ModelFusion.helpers.load_data import load_data\n",
    "from ModelFusion.helpers.load_model import reload_model\n",
    "from ModelFusion.helpers.pl_helpers import TrainSeg, get_logger\n",
    "from ModelFusion.helpers.pl_callbacks import ValVisualizationSeg\n",
    "from pytorch_lightning.callbacks import ModelCheckpoint\n",
    "from monai.utils import CommonKeys"
   ]
  },
  {
   "cell_type": "code",
   "execution_count": 4,
   "id": "08e182dc",
   "metadata": {},
   "outputs": [],
   "source": [
    "args = {}\n",
    "# input args\n",
    "args[\"num_retrain_samples\"] = 5\n",
    "args[\"num_retrain_epochs\"] = 1\n",
    "args[\"save_dir\"] = \"./\"\n",
    "args[\"vendor\"] = \"A\"\n",
    "\n",
    "# fixed args\n",
    "args[\"ds_name\"] = \"MNMS\"\n",
    "args[\"model_name\"] = \"UNet\"\n",
    "args[\"log_name\"] = \"u_net_eval_logs\"\n",
    "args[\"accelerator\"] = \"gpu\" if torch.cuda.is_available() else \"cpu\""
   ]
  },
  {
   "cell_type": "markdown",
   "id": "0136313d",
   "metadata": {},
   "source": [
    "## Fuse 2 UNets"
   ]
  },
  {
   "cell_type": "code",
   "execution_count": 5,
   "id": "d153fedd",
   "metadata": {},
   "outputs": [],
   "source": [
    "%%capture\n",
    "model1_path = \"./seg_logs/2022_11_22_02_40_15_864295/\"\n",
    "model2_path = \"./seg_logs/2022_11_22_02_48_26_706789/\"\n",
    "model1 = reload_model(args[\"model_name\"], model1_path)\n",
    "model2 = reload_model(args[\"model_name\"], model2_path)\n",
    "model_fused = fuse_u_nets(model1_path, model2_path)"
   ]
  },
  {
   "cell_type": "code",
   "execution_count": 6,
   "id": "6d6c31f6",
   "metadata": {},
   "outputs": [],
   "source": [
    "# model_fused"
   ]
  },
  {
   "cell_type": "markdown",
   "id": "26284017",
   "metadata": {},
   "source": [
    "## Load Data"
   ]
  },
  {
   "cell_type": "code",
   "execution_count": 7,
   "id": "4f7b37aa",
   "metadata": {},
   "outputs": [
    {
     "name": "stderr",
     "output_type": "stream",
     "text": [
      "Loading dataset: 100%|███████████████████████████████████████| 1740/1740 [00:09<00:00, 180.03it/s]\n",
      "Loading dataset: 100%|█████████████████████████████████████████| 104/104 [00:00<00:00, 145.94it/s]\n"
     ]
    }
   ],
   "source": [
    "train_ds = load_data(args[\"ds_name\"], \"train\", vendor=args[\"vendor\"])\n",
    "val_ds = load_data(args[\"ds_name\"], \"val\", vendor=args[\"vendor\"])"
   ]
  },
  {
   "cell_type": "code",
   "execution_count": 8,
   "id": "330367d7",
   "metadata": {},
   "outputs": [],
   "source": [
    "train_indices = torch.arange(args[\"num_retrain_samples\"])\n",
    "train_ds_subset = Subset(train_ds, train_indices)"
   ]
  },
  {
   "cell_type": "code",
   "execution_count": 9,
   "id": "2eeac5ca",
   "metadata": {},
   "outputs": [
    {
     "data": {
      "text/plain": [
       "(5, 1740)"
      ]
     },
     "execution_count": 9,
     "metadata": {},
     "output_type": "execute_result"
    }
   ],
   "source": [
    "len(train_ds_subset), len(train_ds)"
   ]
  },
  {
   "cell_type": "code",
   "execution_count": 10,
   "id": "b4680e4e",
   "metadata": {},
   "outputs": [
    {
     "data": {
      "text/plain": [
       "104"
      ]
     },
     "execution_count": 10,
     "metadata": {},
     "output_type": "execute_result"
    }
   ],
   "source": [
    "len(val_ds)"
   ]
  },
  {
   "cell_type": "code",
   "execution_count": 11,
   "id": "f9681fad",
   "metadata": {},
   "outputs": [],
   "source": [
    "ds_dict = {\n",
    "    \"train\": train_ds_subset,\n",
    "    \"val\": val_ds\n",
    "}"
   ]
  },
  {
   "cell_type": "markdown",
   "id": "24a353dc",
   "metadata": {},
   "source": [
    "## Models"
   ]
  },
  {
   "cell_type": "code",
   "execution_count": 12,
   "id": "40608a30",
   "metadata": {},
   "outputs": [],
   "source": [
    "model = model_fused\n",
    "# model = model1\n",
    "# model = model2\n",
    "lit_model = TrainSeg(ds_dict, model.to(torch.device(\"cpu\")))"
   ]
  },
  {
   "cell_type": "code",
   "execution_count": 13,
   "id": "51af4d1b",
   "metadata": {},
   "outputs": [],
   "source": [
    "logger, time_stamp = get_logger(args[\"save_dir\"], args[\"log_name\"])\n",
    "callbacks = [\n",
    "    ValVisualizationSeg(save_interval=1),\n",
    "    ModelCheckpoint(os.path.join(args[\"save_dir\"], args[\"log_name\"], time_stamp, \"checkpoints/\"),\n",
    "                    monitor=\"val_dsc\", mode=\"max\")\n",
    "]"
   ]
  },
  {
   "cell_type": "code",
   "execution_count": 14,
   "id": "0233d2e4",
   "metadata": {},
   "outputs": [],
   "source": [
    "# trainer = pl.Trainer(\n",
    "#     accelerator=\"gpu\",\n",
    "#     devices=1,\n",
    "#     fast_dev_run=2\n",
    "# )"
   ]
  },
  {
   "cell_type": "code",
   "execution_count": 15,
   "id": "d569804d",
   "metadata": {},
   "outputs": [],
   "source": [
    "# trainer.fit(lit_model)"
   ]
  },
  {
   "cell_type": "code",
   "execution_count": 16,
   "id": "947815bd",
   "metadata": {},
   "outputs": [
    {
     "name": "stderr",
     "output_type": "stream",
     "text": [
      "GPU available: True (cuda), used: True\n",
      "TPU available: False, using: 0 TPU cores\n",
      "IPU available: False, using: 0 IPUs\n",
      "HPU available: False, using: 0 HPUs\n"
     ]
    }
   ],
   "source": [
    "trainer = pl.Trainer(\n",
    "    accelerator=args[\"accelerator\"],\n",
    "    devices=1,\n",
    "    logger=logger,\n",
    "    callbacks=callbacks,\n",
    "    num_sanity_val_steps=-1,\n",
    "    # precision=16,\n",
    "    max_epochs=args[\"num_retrain_epochs\"]\n",
    ")"
   ]
  },
  {
   "cell_type": "code",
   "execution_count": 17,
   "id": "0428072c",
   "metadata": {},
   "outputs": [
    {
     "name": "stderr",
     "output_type": "stream",
     "text": [
      "LOCAL_RANK: 0 - CUDA_VISIBLE_DEVICES: [0]\n",
      "\n",
      "  | Name    | Type       | Params\n",
      "---------------------------------------\n",
      "0 | model   | UNet       | 41.5 K\n",
      "1 | loss_fn | DiceCELoss | 0     \n",
      "---------------------------------------\n",
      "41.5 K    Trainable params\n",
      "0         Non-trainable params\n",
      "41.5 K    Total params\n",
      "0.166     Total estimated model params size (MB)\n"
     ]
    },
    {
     "data": {
      "application/vnd.jupyter.widget-view+json": {
       "model_id": "",
       "version_major": 2,
       "version_minor": 0
      },
      "text/plain": [
       "Sanity Checking: 0it [00:00, ?it/s]"
      ]
     },
     "metadata": {},
     "output_type": "display_data"
    },
    {
     "name": "stderr",
     "output_type": "stream",
     "text": [
      "D:\\python\\venvs\\IML\\lib\\site-packages\\pytorch_lightning\\trainer\\connectors\\data_connector.py:224: PossibleUserWarning: The dataloader, val_dataloader 0, does not have many workers which may be a bottleneck. Consider increasing the value of the `num_workers` argument` (try 16 which is the number of cpus on this machine) in the `DataLoader` init to improve performance.\n",
      "  rank_zero_warn(\n",
      "D:\\python\\venvs\\IML\\lib\\site-packages\\pytorch_lightning\\trainer\\connectors\\data_connector.py:224: PossibleUserWarning: The dataloader, train_dataloader, does not have many workers which may be a bottleneck. Consider increasing the value of the `num_workers` argument` (try 16 which is the number of cpus on this machine) in the `DataLoader` init to improve performance.\n",
      "  rank_zero_warn(\n",
      "D:\\python\\venvs\\IML\\lib\\site-packages\\pytorch_lightning\\trainer\\trainer.py:1555: PossibleUserWarning: The number of training batches (2) is smaller than the logging interval Trainer(log_every_n_steps=50). Set a lower value for log_every_n_steps if you want to see logs for the training epoch.\n",
      "  rank_zero_warn(\n"
     ]
    },
    {
     "data": {
      "application/vnd.jupyter.widget-view+json": {
       "model_id": "ce2e744c83b64dc89eed4ed2c7c3298d",
       "version_major": 2,
       "version_minor": 0
      },
      "text/plain": [
       "Training: 0it [00:00, ?it/s]"
      ]
     },
     "metadata": {},
     "output_type": "display_data"
    },
    {
     "data": {
      "application/vnd.jupyter.widget-view+json": {
       "model_id": "",
       "version_major": 2,
       "version_minor": 0
      },
      "text/plain": [
       "Validation: 0it [00:00, ?it/s]"
      ]
     },
     "metadata": {},
     "output_type": "display_data"
    },
    {
     "name": "stderr",
     "output_type": "stream",
     "text": [
      "`Trainer.fit` stopped: `max_epochs=1` reached.\n"
     ]
    }
   ],
   "source": [
    "trainer.fit(lit_model)"
   ]
  },
  {
   "cell_type": "code",
   "execution_count": 18,
   "id": "d9e45f7e",
   "metadata": {},
   "outputs": [
    {
     "name": "stderr",
     "output_type": "stream",
     "text": [
      "LOCAL_RANK: 0 - CUDA_VISIBLE_DEVICES: [0]\n"
     ]
    },
    {
     "data": {
      "application/vnd.jupyter.widget-view+json": {
       "model_id": "7e454a066fbc4e418fcb22fbc698d6fa",
       "version_major": 2,
       "version_minor": 0
      },
      "text/plain": [
       "Validation: 0it [00:00, ?it/s]"
      ]
     },
     "metadata": {},
     "output_type": "display_data"
    },
    {
     "name": "stdout",
     "output_type": "stream",
     "text": [
      "───────────────────────────────────────────────────────────────────────────────────────────────────\r\n",
      "     Validate metric           DataLoader 0\r\n",
      "───────────────────────────────────────────────────────────────────────────────────────────────────\r\n",
      "         val_dsc            0.5675495266914368\r\n",
      "        val_loss            0.3568689227104187\r\n",
      "───────────────────────────────────────────────────────────────────────────────────────────────────\n"
     ]
    },
    {
     "data": {
      "text/plain": [
       "[{'val_loss': 0.3568689227104187, 'val_dsc': 0.5675495266914368}]"
      ]
     },
     "execution_count": 18,
     "metadata": {},
     "output_type": "execute_result"
    }
   ],
   "source": [
    "trainer.validate(lit_model)"
   ]
  },
  {
   "cell_type": "code",
   "execution_count": null,
   "id": "82ff053d",
   "metadata": {},
   "outputs": [],
   "source": []
  }
 ],
 "metadata": {
  "kernelspec": {
   "display_name": "IML",
   "language": "python",
   "name": "iml"
  },
  "language_info": {
   "codemirror_mode": {
    "name": "ipython",
    "version": 3
   },
   "file_extension": ".py",
   "mimetype": "text/x-python",
   "name": "python",
   "nbconvert_exporter": "python",
   "pygments_lexer": "ipython3",
   "version": "3.9.5"
  }
 },
 "nbformat": 4,
 "nbformat_minor": 5
}
