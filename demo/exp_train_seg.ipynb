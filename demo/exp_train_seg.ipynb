{
 "cells": [
  {
   "cell_type": "code",
   "execution_count": 1,
   "id": "b3a70ef3",
   "metadata": {},
   "outputs": [],
   "source": [
    "%load_ext autoreload\n",
    "%autoreload 2"
   ]
  },
  {
   "cell_type": "code",
   "execution_count": 2,
   "id": "dc9c838a",
   "metadata": {},
   "outputs": [],
   "source": [
    "import sys\n",
    "import os\n",
    "\n",
    "path = os.getcwd()\n",
    "for _ in range(2):\n",
    "    path = os.path.dirname(path)\n",
    "\n",
    "if not path in sys.path:\n",
    "    sys.path.append(path)"
   ]
  },
  {
   "cell_type": "code",
   "execution_count": 13,
   "id": "069024cd",
   "metadata": {},
   "outputs": [],
   "source": [
    "import torch\n",
    "import pytorch_lightning as pl\n",
    "import os\n",
    "import ModelFusion.helpers.pytorch_utils as ptu\n",
    "\n",
    "from ModelFusion.helpers.load_data import load_data\n",
    "from ModelFusion.helpers.load_model import load_model, reload_model\n",
    "from ModelFusion.helpers.pl_helpers import TrainSeg, get_logger\n",
    "from ModelFusion.helpers.pl_callbacks import ValVisualizationSeg\n",
    "from pytorch_lightning.callbacks import ModelCheckpoint\n",
    "from monai.utils import CommonKeys\n",
    "from ModelFusion.helpers.utils import vis_images"
   ]
  },
  {
   "cell_type": "code",
   "execution_count": 7,
   "id": "c0f2c06b",
   "metadata": {},
   "outputs": [],
   "source": [
    "ds_name = \"MNMS\"\n",
    "vendor = \"A\"\n",
    "model_name = \"UNet\"\n",
    "save_dir = \"../\"\n",
    "log_name = \"seg_logs\"\n",
    "if_debug = False\n",
    "accelerator = \"gpu\" if torch.cuda.is_available() else \"cpu\""
   ]
  },
  {
   "cell_type": "markdown",
   "id": "5141be03",
   "metadata": {},
   "source": [
    "## 1. Read Data"
   ]
  },
  {
   "cell_type": "code",
   "execution_count": 5,
   "id": "e1fca9bb",
   "metadata": {},
   "outputs": [],
   "source": [
    "# for mode in [\"val\", \"test\"]:\n",
    "#     for vendor in [\"A\", \"B\", \"C\", \"D\"]:\n",
    "#         if mode == \"train\" and vendor == \"D\":\n",
    "#             continue\n",
    "#         for if_aug in [True, False]:\n",
    "#             print(f\"current: {mode}, {vendor}, {if_aug}\")\n",
    "#             ds = load_data(ds_name, mode, vendor=vendor, if_aug=if_aug)\n",
    "#             print(f\"{ds[0][CommonKeys.IMAGE].shape}, {ds[0][CommonKeys.LABEL].shape}\")\n",
    "#             print(\"-\" * 100)"
   ]
  },
  {
   "cell_type": "code",
   "execution_count": 6,
   "id": "96b4d4db",
   "metadata": {},
   "outputs": [
    {
     "name": "stderr",
     "output_type": "stream",
     "text": [
      "Loading dataset: 100%|█████████████████████████████████████| 1740/1740 [00:09<00:00, 181.43it/s]\n",
      "Loading dataset: 100%|███████████████████████████████████████| 104/104 [00:00<00:00, 150.52it/s]\n"
     ]
    }
   ],
   "source": [
    "train_ds = load_data(ds_name, \"train\", vendor=vendor)\n",
    "val_ds = load_data(ds_name, \"val\", vendor=vendor)"
   ]
  },
  {
   "cell_type": "markdown",
   "id": "bdbb7f42",
   "metadata": {},
   "source": [
    "## 2. Load Model"
   ]
  },
  {
   "cell_type": "code",
   "execution_count": 7,
   "id": "5916733e",
   "metadata": {},
   "outputs": [
    {
     "name": "stdout",
     "output_type": "stream",
     "text": [
      "UNet: output shape (1, 4, 256, 256)\n",
      "----------------------------------------------------------------------------------------------------\n",
      "SwinUNETR: output shape (1, 4, 256, 256)\n",
      "----------------------------------------------------------------------------------------------------\n"
     ]
    }
   ],
   "source": [
    "X_test = train_ds[0][CommonKeys.IMAGE].unsqueeze(0)\n",
    "for model_name in [\"UNet\", \"SwinUNETR\"]:\n",
    "    model = load_model(model_name)\n",
    "    pred = model(X_test)\n",
    "    print(f\"{model_name}: output shape {pred.shape}\")\n",
    "    print(\"-\" * 100)"
   ]
  },
  {
   "cell_type": "markdown",
   "id": "17152979",
   "metadata": {},
   "source": [
    "## 3. Training"
   ]
  },
  {
   "cell_type": "code",
   "execution_count": 8,
   "id": "5c77663f",
   "metadata": {},
   "outputs": [],
   "source": [
    "ds_dict = {\n",
    "    \"train\": train_ds,\n",
    "    \"val\": val_ds\n",
    "}\n",
    "model = load_model(model_name)\n",
    "lit_model = TrainSeg(ds_dict, model)"
   ]
  },
  {
   "cell_type": "code",
   "execution_count": 9,
   "id": "02f37af6",
   "metadata": {},
   "outputs": [],
   "source": [
    "logger, time_stamp = get_logger(save_dir, log_name)\n",
    "callbacks = [\n",
    "    ValVisualizationSeg(save_interval=1),\n",
    "    ModelCheckpoint(os.path.join(save_dir, log_name, time_stamp, \"checkpoints/\"), monitor=\"val_dsc\", mode=\"max\")\n",
    "]"
   ]
  },
  {
   "cell_type": "code",
   "execution_count": 10,
   "id": "f93f7941",
   "metadata": {},
   "outputs": [
    {
     "name": "stderr",
     "output_type": "stream",
     "text": [
      "GPU available: True (cuda), used: True\n",
      "TPU available: False, using: 0 TPU cores\n",
      "IPU available: False, using: 0 IPUs\n",
      "HPU available: False, using: 0 HPUs\n"
     ]
    }
   ],
   "source": [
    "# if_debug = True\n",
    "if if_debug:\n",
    "    trainer = pl.Trainer(\n",
    "        accelerator=\"gpu\",\n",
    "        devices=1,\n",
    "        fast_dev_run=2\n",
    "    )\n",
    "else:\n",
    "    trainer = pl.Trainer(\n",
    "        accelerator=\"gpu\",\n",
    "        devices=1,\n",
    "        logger=logger,\n",
    "        callbacks=callbacks,\n",
    "        num_sanity_val_steps=-1,\n",
    "#         precision=16,\n",
    "#         max_epochs=lit_model.num_epochs,\n",
    "        max_epochs=5\n",
    "    )"
   ]
  },
  {
   "cell_type": "code",
   "execution_count": 11,
   "id": "374b02ff",
   "metadata": {},
   "outputs": [
    {
     "name": "stderr",
     "output_type": "stream",
     "text": [
      "LOCAL_RANK: 0 - CUDA_VISIBLE_DEVICES: [0]\n",
      "\n",
      "  | Name    | Type       | Params\n",
      "---------------------------------------\n",
      "0 | model   | SwinUNETR  | 6.3 M \n",
      "1 | loss_fn | DiceCELoss | 0     \n",
      "---------------------------------------\n",
      "6.3 M     Trainable params\n",
      "0         Non-trainable params\n",
      "6.3 M     Total params\n",
      "25.183    Total estimated model params size (MB)\n"
     ]
    },
    {
     "data": {
      "application/vnd.jupyter.widget-view+json": {
       "model_id": "",
       "version_major": 2,
       "version_minor": 0
      },
      "text/plain": [
       "Sanity Checking: 0it [00:00, ?it/s]"
      ]
     },
     "metadata": {},
     "output_type": "display_data"
    },
    {
     "name": "stderr",
     "output_type": "stream",
     "text": [
      "D:\\python\\venvs\\IML\\lib\\site-packages\\pytorch_lightning\\trainer\\connectors\\data_connector.py:224: PossibleUserWarning: The dataloader, val_dataloader 0, does not have many workers which may be a bottleneck. Consider increasing the value of the `num_workers` argument` (try 16 which is the number of cpus on this machine) in the `DataLoader` init to improve performance.\n",
      "  rank_zero_warn(\n",
      "D:\\python\\venvs\\IML\\lib\\site-packages\\pytorch_lightning\\trainer\\connectors\\data_connector.py:224: PossibleUserWarning: The dataloader, train_dataloader, does not have many workers which may be a bottleneck. Consider increasing the value of the `num_workers` argument` (try 16 which is the number of cpus on this machine) in the `DataLoader` init to improve performance.\n",
      "  rank_zero_warn(\n"
     ]
    },
    {
     "data": {
      "application/vnd.jupyter.widget-view+json": {
       "model_id": "4ec8737c1b274a188f70c88f128757fe",
       "version_major": 2,
       "version_minor": 0
      },
      "text/plain": [
       "Training: 0it [00:00, ?it/s]"
      ]
     },
     "metadata": {},
     "output_type": "display_data"
    },
    {
     "name": "stderr",
     "output_type": "stream",
     "text": [
      "D:\\python\\venvs\\IML\\lib\\site-packages\\pytorch_lightning\\trainer\\call.py:48: UserWarning: Detected KeyboardInterrupt, attempting graceful shutdown...\n",
      "  rank_zero_warn(\"Detected KeyboardInterrupt, attempting graceful shutdown...\")\n"
     ]
    }
   ],
   "source": [
    "trainer.fit(lit_model)"
   ]
  },
  {
   "cell_type": "markdown",
   "id": "956c620a",
   "metadata": {},
   "source": [
    "## 4. Reload Model"
   ]
  },
  {
   "cell_type": "code",
   "execution_count": 6,
   "id": "71ac4895",
   "metadata": {},
   "outputs": [],
   "source": [
    "log_dir = \"../seg_logs/2022_11_13_00_51_38_384949/\""
   ]
  },
  {
   "cell_type": "code",
   "execution_count": 9,
   "id": "2995e169",
   "metadata": {},
   "outputs": [
    {
     "name": "stderr",
     "output_type": "stream",
     "text": [
      "Loading dataset: 100%|█████████████████████████████████████| 1740/1740 [00:10<00:00, 170.66it/s]\n",
      "Loading dataset: 100%|███████████████████████████████████████| 104/104 [00:00<00:00, 136.24it/s]\n"
     ]
    }
   ],
   "source": [
    "train_ds = load_data(ds_name, \"train\", vendor=vendor)\n",
    "val_ds = load_data(ds_name, \"val\", vendor=vendor)"
   ]
  },
  {
   "cell_type": "code",
   "execution_count": 11,
   "id": "293a6112",
   "metadata": {},
   "outputs": [],
   "source": [
    "model_reload = reload_model(model_name, log_dir)"
   ]
  },
  {
   "cell_type": "code",
   "execution_count": 17,
   "id": "fa0035b0",
   "metadata": {},
   "outputs": [
    {
     "data": {
      "image/png": "[encoded data removed]",
      "text/plain": [
       "<Figure size 777.6x259.2 with 6 Axes>"
      ]
     },
     "metadata": {
      "needs_background": "light"
     },
     "output_type": "display_data"
    }
   ],
   "source": [
    "with torch.no_grad():\n",
    "    idx = 10\n",
    "    data = val_ds[idx]\n",
    "    img, label = data[CommonKeys.IMAGE], data[CommonKeys.LABEL]\n",
    "    img_input = img.unsqueeze(0).to(ptu.DEVICE)\n",
    "    pred = model_reload(img_input).detach().cpu().argmax(dim=1, keepdim=True).squeeze(0)\n",
    "\n",
    "vis_images(img, pred, label, titles=[\"img\", \"pred\", \"label\"])"
   ]
  },
  {
   "cell_type": "code",
   "execution_count": null,
   "id": "c6a6db0b",
   "metadata": {},
   "outputs": [],
   "source": []
  }
 ],
 "metadata": {
  "kernelspec": {
   "display_name": "IML",
   "language": "python",
   "name": "iml"
  },
  "language_info": {
   "codemirror_mode": {
    "name": "ipython",
    "version": 3
   },
   "file_extension": ".py",
   "mimetype": "text/x-python",
   "name": "python",
   "nbconvert_exporter": "python",
   "pygments_lexer": "ipython3",
   "version": "3.9.5"
  }
 },
 "nbformat": 4,
 "nbformat_minor": 5
}
