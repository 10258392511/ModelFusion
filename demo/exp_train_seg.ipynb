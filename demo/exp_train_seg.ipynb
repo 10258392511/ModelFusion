{
 "cells": [
  {
   "cell_type": "code",
   "execution_count": 1,
   "id": "b3a70ef3",
   "metadata": {},
   "outputs": [],
   "source": [
    "%load_ext autoreload\n",
    "%autoreload 2"
   ]
  },
  {
   "cell_type": "code",
   "execution_count": 2,
   "id": "dc9c838a",
   "metadata": {},
   "outputs": [],
   "source": [
    "import sys\n",
    "import os\n",
    "\n",
    "path = os.getcwd()\n",
    "for _ in range(2):\n",
    "    path = os.path.dirname(path)\n",
    "\n",
    "if not path in sys.path:\n",
    "    sys.path.append(path)"
   ]
  },
  {
   "cell_type": "code",
   "execution_count": 3,
   "id": "069024cd",
   "metadata": {},
   "outputs": [],
   "source": [
    "from ModelFusion.helpers.load_data import load_data\n",
    "from ModelFusion.helpers.load_model import load_model\n",
    "from monai.utils import CommonKeys"
   ]
  },
  {
   "cell_type": "code",
   "execution_count": 4,
   "id": "c0f2c06b",
   "metadata": {},
   "outputs": [],
   "source": [
    "ds_name = \"MNMS\"\n",
    "vendor = \"A\"\n",
    "model_name = \"UNet\""
   ]
  },
  {
   "cell_type": "markdown",
   "id": "5141be03",
   "metadata": {},
   "source": [
    "## 1. Read Data"
   ]
  },
  {
   "cell_type": "code",
   "execution_count": 5,
   "id": "e1fca9bb",
   "metadata": {},
   "outputs": [],
   "source": [
    "# for mode in [\"val\", \"test\"]:\n",
    "#     for vendor in [\"A\", \"B\", \"C\", \"D\"]:\n",
    "#         if mode == \"train\" and vendor == \"D\":\n",
    "#             continue\n",
    "#         for if_aug in [True, False]:\n",
    "#             print(f\"current: {mode}, {vendor}, {if_aug}\")\n",
    "#             ds = load_data(ds_name, mode, vendor=vendor, if_aug=if_aug)\n",
    "#             print(f\"{ds[0][CommonKeys.IMAGE].shape}, {ds[0][CommonKeys.LABEL].shape}\")\n",
    "#             print(\"-\" * 100)"
   ]
  },
  {
   "cell_type": "code",
   "execution_count": 6,
   "id": "96b4d4db",
   "metadata": {},
   "outputs": [
    {
     "name": "stderr",
     "output_type": "stream",
     "text": [
      "Loading dataset: 100%|█████████████████████████████████████████████████████████████████████████████████████████████████████████████████████████████████| 1740/1740 [00:10<00:00, 171.91it/s]\n",
      "Loading dataset: 100%|███████████████████████████████████████████████████████████████████████████████████████████████████████████████████████████████████| 104/104 [00:00<00:00, 141.55it/s]\n"
     ]
    }
   ],
   "source": [
    "train_ds = load_data(ds_name, \"train\", vendor=vendor)\n",
    "val_ds = load_data(ds_name, \"val\", vendor=vendor)"
   ]
  },
  {
   "cell_type": "markdown",
   "id": "bdbb7f42",
   "metadata": {},
   "source": [
    "## 2. Load Model"
   ]
  },
  {
   "cell_type": "code",
   "execution_count": 9,
   "id": "5916733e",
   "metadata": {},
   "outputs": [
    {
     "name": "stdout",
     "output_type": "stream",
     "text": [
      "UNet: output shape (1, 4, 256, 256)\n",
      "----------------------------------------------------------------------------------------------------\n",
      "SwinUNETR: output shape (1, 4, 256, 256)\n",
      "----------------------------------------------------------------------------------------------------\n"
     ]
    }
   ],
   "source": [
    "X_test = train_ds[0][CommonKeys.IMAGE].unsqueeze(0)\n",
    "for model_name in [\"UNet\", \"SwinUNETR\"]:\n",
    "    model = load_model(model_name)\n",
    "    pred = model(X_test)\n",
    "    print(f\"{model_name}: output shape {pred.shape}\")\n",
    "    print(\"-\" * 100)"
   ]
  },
  {
   "cell_type": "code",
   "execution_count": 11,
   "id": "bca18cc3",
   "metadata": {},
   "outputs": [],
   "source": [
    "model = load_model(model_name)"
   ]
  },
  {
   "cell_type": "code",
   "execution_count": null,
   "id": "c3e14996",
   "metadata": {},
   "outputs": [],
   "source": []
  }
 ],
 "metadata": {
  "kernelspec": {
   "display_name": "IML",
   "language": "python",
   "name": "iml"
  },
  "language_info": {
   "codemirror_mode": {
    "name": "ipython",
    "version": 3
   },
   "file_extension": ".py",
   "mimetype": "text/x-python",
   "name": "python",
   "nbconvert_exporter": "python",
   "pygments_lexer": "ipython3",
   "version": "3.9.5"
  }
 },
 "nbformat": 4,
 "nbformat_minor": 5
}
